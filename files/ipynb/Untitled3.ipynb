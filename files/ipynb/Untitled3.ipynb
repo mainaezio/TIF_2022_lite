{
 "cells": [
  {
   "cell_type": "code",
   "execution_count": 1,
   "metadata": {},
   "outputs": [],
   "source": [
    "import matplotlib.pyplot as plt\n",
    "import numpy as np\n",
    "from fractions import Fraction\n",
    "\n",
    "\n",
    "def create_pi_labels(a=0, b=2, step=0.5, ax=None, direction='x'):\n",
    "    \"\"\"\n",
    "    A function that gives back ticks and labels in radians\n",
    "\n",
    "    Keyword arguments:\n",
    "    a -- lower limit is a*pi (default 0.0)\n",
    "    b -- upper limit is b*pi (default 2.0)\n",
    "    step -- step is step*pi  (default 0.5)\n",
    "    ax -- if ax is not None then ticks and labels are set for this axes (default None)\n",
    "    direction -- 'x' or 'y' or 'z' (default 'x') which axis you want to label\n",
    "\n",
    "    return value is ticks, labels\n",
    "    \"\"\"\n",
    "\n",
    "    max_denominator = int(1/step)\n",
    "    values = np.arange(a, b+0.1*step, step)\n",
    "    fracs = [Fraction(x).limit_denominator(max_denominator) for x in values]\n",
    "    ticks = values*np.pi\n",
    "\n",
    "    if plt.rcParams[\"text.usetex\"] is True:\n",
    "        vspace = r\"\\vphantom{\\frac{1}{2}}\"\n",
    "    else:\n",
    "        vspace = \"\"\n",
    "\n",
    "    labels = []\n",
    "\n",
    "    for frac in fracs:\n",
    "        if frac.numerator==0:\n",
    "            labels.append(r\"$0\" + vspace + \"$\")\n",
    "        elif frac.numerator<0:\n",
    "            if frac.denominator==1 and abs(frac.numerator)==1:\n",
    "                labels.append(r\"$-\\pi\" + vspace + \"$\")\n",
    "            elif frac.denominator==1:\n",
    "                labels.append(r\"$-{}\\pi\".format(abs(frac.numerator)) +vspace + \"$\")\n",
    "            else:\n",
    "                labels.append(r\"$-\\frac{{{}}}{{{}}} \\pi$\".format(abs(frac.numerator), frac.denominator))\n",
    "        else:\n",
    "            if frac.denominator==1 and frac.numerator==1:\n",
    "                labels.append(r\"$\\pi\" + vspace + \"$\")\n",
    "            elif frac.denominator==1:\n",
    "                labels.append(r\"${}\\pi\".format(frac.numerator) + vspace + \"$\")\n",
    "            else:\n",
    "                labels.append(r\"$\\frac{{{}}}{{{}}} \\pi$\".format(frac.numerator, frac.denominator))\n",
    "\n",
    "    if ax is not None:\n",
    "        if direction == 'x':\n",
    "            ax.set_xticks(ticks)\n",
    "            ax.set_xticklabels(labels)\n",
    "        elif direction == 'y':\n",
    "            ax.set_yticks(ticks)\n",
    "            ax.set_yticklabels(labels)\n",
    "        elif direction == 'z':\n",
    "            ax.set_zticks(ticks)\n",
    "            ax.set_zticklabels(labels)\n",
    "        else:\n",
    "            print(\"direction \", direction, \"is not a proper argument\")\n",
    "\n",
    "    return ticks, labels\n",
    "\n",
    "if __name__ == '__main__':\n",
    "    x = np.linspace(-np.pi, 2*np.pi, 1000)\n",
    "\n",
    "    fig = plt.figure()\n",
    "    ax = fig.add_subplot(1,1,1)\n",
    "    ax.set_title(\"Automatically create Labels as Multiples of $\\pi$\")\n",
    "\n",
    "    ax.plot(x, np.sin(x), 'r-', label=r\"$\\sin(x)$\")\n",
    "    ax.plot(x, np.cos(x), 'b-', label=r\"$\\cos(x)$\")\n",
    "\n",
    "    ax.grid()\n",
    "    ax.set_xlim(-np.pi, 2*np.pi)\n",
    "    ax.set_ylim(-1.1, 1.1)\n",
    "\n",
    "    ax.set_xlabel(r\"$x$\")\n",
    "    ax.set_ylabel(r\"$f(x)$\")\n",
    "\n",
    "    create_pi_labels(-1, 2, 1/3, ax, 'x')\n",
    "\n",
    "    ax.legend(loc=\"best\")\n",
    "    # ax.xaxis.labelpad = 50\n",
    "\n",
    "    fig.tight_layout()\n",
    "    fig.savefig(\"../images/create_pi_labels.png\", dpi=300)\n",
    "    \n"
   ]
  },
  {
   "cell_type": "code",
   "execution_count": 3,
   "metadata": {},
   "outputs": [
    {
     "data": {
      "text/plain": [
       "'/Users/maina/python/MyCourse2/ipynb'"
      ]
     },
     "execution_count": 3,
     "metadata": {},
     "output_type": "execute_result"
    }
   ],
   "source": [
    "%pwd"
   ]
  },
  {
   "cell_type": "code",
   "execution_count": null,
   "metadata": {},
   "outputs": [],
   "source": []
  }
 ],
 "metadata": {
  "kernelspec": {
   "display_name": "Python 3",
   "language": "python",
   "name": "python3"
  },
  "language_info": {
   "codemirror_mode": {
    "name": "ipython",
    "version": 3
   },
   "file_extension": ".py",
   "mimetype": "text/x-python",
   "name": "python",
   "nbconvert_exporter": "python",
   "pygments_lexer": "ipython3",
   "version": "3.8.5"
  }
 },
 "nbformat": 4,
 "nbformat_minor": 4
}
