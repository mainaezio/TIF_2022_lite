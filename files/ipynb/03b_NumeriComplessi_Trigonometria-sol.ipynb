{
 "cells": [
  {
   "cell_type": "markdown",
   "metadata": {},
   "source": [
    "Numeri Complessi e Trigonometria\n",
    "================================\n",
    "\n",
    "Una delle equazioni più importanti della matematica è la Formula di Eulero:\n",
    "\n",
    "$$ e^{i \\theta} = \\cos(\\theta) + i \\sin(\\theta)\\qquad \\theta \\in \\mathbb{R}.$$\n",
    "\n",
    "Usando le regole usuali per il prodotto di esponenziali e per il prodotto fra numeri complessi si ottengono facilmente tutte le formule trigonometriche.<BR>\n",
    "Per esempio:\n",
    "    \n",
    "$$e^{i \\theta}\\,  e^{-i \\theta} =  e^{0} = 1 = \\cos(\\theta)^2 + \\sin(\\theta)^2$$\n",
    "    \n",
    "$$e^{i \\theta_1}\\,  e^{i \\theta_2} = e^{i (\\theta_1 +\\theta_2)} =\n",
    "        \\cos(\\theta_1+\\theta_2) + i \\sin(\\theta_1+\\theta_2) = \n",
    "        (\\cos(\\theta_1)\\, \\cos(\\theta_2) - \\sin(\\theta_1)\\, \\sin(\\theta_2)) \n",
    "        + i\\, (\\sin(\\theta_1)\\, \\cos(\\theta_2) + \\cos(\\theta_1)\\, \\sin(\\theta_2))$$ "
   ]
  },
  {
   "cell_type": "markdown",
   "metadata": {},
   "source": [
    "<img src=\"../Images/NumeriComplessiGrafica.gif\" width=\"500\" align=\"center\"/>"
   ]
  },
  {
   "cell_type": "markdown",
   "metadata": {},
   "source": [
    "In questo notebook potrete esplorare esponenziali e relazioni trigonometriche sotto forma di esercizi in Python."
   ]
  },
  {
   "cell_type": "markdown",
   "metadata": {},
   "source": [
    "__1 - Verificate numericamente che per qualunque `a` e `b`, reali o complessi, $e^{a}\\,  e^{b} = e^{a + b}$. Controllate il caso `a` = `-b`.__"
   ]
  },
  {
   "cell_type": "code",
   "execution_count": 1,
   "metadata": {},
   "outputs": [
    {
     "name": "stdout",
     "output_type": "stream",
     "text": [
      "(3.9923240484412705+6.217676312367969j)\n",
      "(3.992324048441272+6.217676312367968j)\n"
     ]
    }
   ],
   "source": [
    "import cmath\n",
    "a = 3 + 2j\n",
    "a_exp = cmath.exp(a)\n",
    "b = -1 -1j\n",
    "b_exp = cmath.exp(b)\n",
    "res1 = a_exp*b_exp\n",
    "res2 = cmath.exp(a+b)\n",
    "print(res1)\n",
    "print(res2)"
   ]
  },
  {
   "cell_type": "markdown",
   "metadata": {},
   "source": [
    "__2 - Verificate numericamente che per qualunque `a` reale, $e^{i a} = \\cos(a) + i \\sin(a)$. Verificate il risultato per $ a = 0, \\pi/2, \\pi , 3 \\pi/2$.__"
   ]
  },
  {
   "cell_type": "code",
   "execution_count": 2,
   "metadata": {},
   "outputs": [
    {
     "name": "stdout",
     "output_type": "stream",
     "text": [
      "(-0.9899924966004454+0.1411200080598672j)\n",
      "(-0.9899924966004454+0.1411200080598672j)\n"
     ]
    }
   ],
   "source": [
    "a = 3\n",
    "a_exp = cmath.exp(a*1j)\n",
    "a_trig = cmath.cos(a) +1j*cmath.sin(a)\n",
    "print(a_exp)\n",
    "print(a_trig)"
   ]
  },
  {
   "cell_type": "markdown",
   "metadata": {},
   "source": [
    "__3 - Verificate numericamente usando la Formula di Eulero che per qualunque `a` e `b` reali, \n",
    "$\\cos(a+b) = \\cos(a)\\, \\cos(b) - \\sin(a)\\, \\sin(b)$ e $\\sin(a+b) = \\sin(a)\\, \\cos(b) + \\cos(a)\\, \\sin(b)$.__"
   ]
  },
  {
   "cell_type": "code",
   "execution_count": null,
   "metadata": {},
   "outputs": [],
   "source": [
    "a = 2.\n",
    "b =-0.5\n",
    "# Esponenziale"
   ]
  },
  {
   "cell_type": "markdown",
   "metadata": {},
   "source": [
    "__4 - Verificate numericamente che per qualunque `a`, `b`, `c`,`d` reali, \n",
    "$(a + i b)\\,(c + i d) = a c - b d + i\\, (a d + b c)$.__"
   ]
  },
  {
   "cell_type": "code",
   "execution_count": 4,
   "metadata": {},
   "outputs": [
    {
     "name": "stdout",
     "output_type": "stream",
     "text": [
      "(1.8082593202564599-12.899703947692506j)\n",
      "(1.8082593202564599-12.899703947692506j)\n"
     ]
    }
   ],
   "source": [
    "a_re = -4.\n",
    "a_im = -1.\n",
    "b_re = 1./3.\n",
    "b_im = cmath.pi\n",
    "a = a_re +1j*a_im\n",
    "b = b_re +1j*b_im\n",
    "res1 = a*b\n",
    "res2 = (a_re*b_re - a_im*b_im) + 1j*(a_im*b_re + a_re*b_im)\n",
    "print(res1)\n",
    "print(res2)"
   ]
  },
  {
   "cell_type": "markdown",
   "metadata": {},
   "source": [
    "__5 - Verificate numericamente che per qualunque `a` e `b` reali, `a > 0`\n",
    "$a + i b = \\sqrt{a^2+b^2}\\, e^{i\\arctan(b/a)}$. Cosa succede se `a < 0`?__"
   ]
  },
  {
   "cell_type": "code",
   "execution_count": 15,
   "metadata": {},
   "outputs": [
    {
     "name": "stdout",
     "output_type": "stream",
     "text": [
      "(4+1j)\n",
      "(4+1j)\n"
     ]
    }
   ],
   "source": [
    "import math\n",
    "a = 4.\n",
    "b = +1.\n",
    "res1 = a + 1j*b\n",
    "rho = cmath.sqrt(a**2+b**2)\n",
    "ang = cmath.atan(b/a)\n",
    "res2 = rho*cmath.exp(1j*ang)\n",
    "print(res1)\n",
    "print(res2)"
   ]
  },
  {
   "cell_type": "code",
   "execution_count": 11,
   "metadata": {},
   "outputs": [
    {
     "data": {
      "text/plain": [
       "0.0"
      ]
     },
     "execution_count": 11,
     "metadata": {},
     "output_type": "execute_result"
    }
   ],
   "source": [
    "math.atan(0.)"
   ]
  },
  {
   "cell_type": "code",
   "execution_count": 13,
   "metadata": {},
   "outputs": [
    {
     "data": {
      "text/plain": [
       "-1.5707963267948966"
      ]
     },
     "execution_count": 13,
     "metadata": {},
     "output_type": "execute_result"
    }
   ],
   "source": [
    "math.atan(-1.e30)"
   ]
  },
  {
   "cell_type": "code",
   "execution_count": null,
   "metadata": {},
   "outputs": [],
   "source": []
  }
 ],
 "metadata": {
  "kernelspec": {
   "display_name": "Python 3",
   "language": "python",
   "name": "python3"
  },
  "language_info": {
   "codemirror_mode": {
    "name": "ipython",
    "version": 3
   },
   "file_extension": ".py",
   "mimetype": "text/x-python",
   "name": "python",
   "nbconvert_exporter": "python",
   "pygments_lexer": "ipython3",
   "version": "3.8.5"
  }
 },
 "nbformat": 4,
 "nbformat_minor": 4
}
