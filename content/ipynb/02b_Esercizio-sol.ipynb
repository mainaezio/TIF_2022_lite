{
 "cells": [
  {
   "cell_type": "markdown",
   "metadata": {},
   "source": [
    "# Programmare in Python\n",
    "\n",
    "Leggete attentamente il testo di ciascun esercizio. Il primo passo deve essere la comprensione del problema, partendo dall'individuazione di quali dati sono necessari per calcolare la quantità richiesta.\n",
    "Assegnate i valori di input a delle variabili ed esprimete le formule necessarie in termini di queste variabili.\n",
    "Fate scrivere il risultato in modo chiaro e descrittivo.\n",
    "\n",
    "### Esempio\n",
    "\n",
    "__- Calcolare la somma di due numeri.__\n"
   ]
  },
  {
   "cell_type": "code",
   "execution_count": null,
   "metadata": {},
   "outputs": [],
   "source": [
    "a = 3.1\n",
    "b = 4.7\n",
    "c = a + b\n",
    "print('La somma di',a,'+',b,'=',c)"
   ]
  },
  {
   "cell_type": "markdown",
   "metadata": {},
   "source": [
    "## Laboratorio: Primi passi\n",
    "![](../Images/SinCos_def.gif)"
   ]
  },
  {
   "cell_type": "markdown",
   "metadata": {},
   "source": [
    "__1 - Dato come input il seno e il coseno di un angolo alfa, trovare il valore dell'angolo. La risposta è univoca?__"
   ]
  },
  {
   "cell_type": "code",
   "execution_count": 11,
   "metadata": {},
   "outputs": [
    {
     "name": "stdout",
     "output_type": "stream",
     "text": [
      "0.45102681179626236\n",
      "0.9\n",
      "0.9\n"
     ]
    }
   ],
   "source": [
    "import math\n",
    "alfa = 0.9\n",
    "print(math.acos(alfa))\n",
    "print(math.cos(math.acos(alfa)))\n",
    "print(math.cos(-math.acos(alfa)))  # Angoli con segno opposto hanno coseno uguale"
   ]
  },
  {
   "cell_type": "code",
   "execution_count": 12,
   "metadata": {},
   "outputs": [
    {
     "name": "stdout",
     "output_type": "stream",
     "text": [
      "Help on built-in function acos in module math:\n",
      "\n",
      "acos(x, /)\n",
      "    Return the arc cosine (measured in radians) of x.\n",
      "\n"
     ]
    }
   ],
   "source": [
    "help(math.acos)"
   ]
  },
  {
   "cell_type": "code",
   "execution_count": 14,
   "metadata": {},
   "outputs": [
    {
     "name": "stdout",
     "output_type": "stream",
     "text": [
      "0.4358898943540673\n",
      "-0.4358898943540673\n"
     ]
    }
   ],
   "source": [
    "print(math.sin(math.acos(alfa)))\n",
    "print(math.sin(-math.acos(alfa)))"
   ]
  },
  {
   "cell_type": "markdown",
   "metadata": {},
   "source": [
    "Il segno del valore del seno discrimina fra il semipiano superiore e quello inferiore. Se il segno è negativo devo cambiare di segno il risultato di `math.acos`."
   ]
  },
  {
   "cell_type": "markdown",
   "metadata": {},
   "source": [
    "__2 - Dato come input un punto p del piano, trovare la distanza dall'origine e l'angolo che il vettore forma con l'asse x (rappresentazione polare).__"
   ]
  },
  {
   "cell_type": "code",
   "execution_count": 24,
   "metadata": {},
   "outputs": [
    {
     "name": "stdout",
     "output_type": "stream",
     "text": [
      "6.300793600809346\n",
      "-0.6276294258014944\n"
     ]
    }
   ],
   "source": [
    "px = 5.1\n",
    "py =-3.7\n",
    "dist= math.sqrt(px*px + py*py)\n",
    "theta = math.acos(px/dist)*math.copysign(1.0,py)\n",
    "print(dist)\n",
    "print(theta)"
   ]
  },
  {
   "cell_type": "markdown",
   "metadata": {},
   "source": [
    "__3 - Dato come input la distanza dall'origine e l'angolo che un vettore bidimensionale p forma con l'asse x (rappresentazione polare), trovare le componenti di p lungo gli assi.__"
   ]
  },
  {
   "cell_type": "code",
   "execution_count": null,
   "metadata": {},
   "outputs": [],
   "source": [
    "dist = 7.3\n",
    "theta = math.pi/4.*4\n",
    "px = dist*math.cos(theta)\n",
    "py = dist*math.sin(theta)\n",
    "print('(',px,',',py,')')"
   ]
  },
  {
   "cell_type": "markdown",
   "metadata": {},
   "source": [
    "__4 - Calcolare la radice di un'equazione algebrica di primo grado. Quali sono gli input necessari?__"
   ]
  },
  {
   "cell_type": "markdown",
   "metadata": {},
   "source": [
    "Eq. di primo grado y = a\\*x + c . Sol: x = (y - c)/a purchè a != 0.  Input necessari y, a, c. \n",
    "\n",
    "Se la scrivo in forma appena più generale a\\*x + b\\*y + c = 0, come cambia la risposta? Che cosa significa risolvere l'equazione?"
   ]
  },
  {
   "cell_type": "markdown",
   "metadata": {},
   "source": [
    "__5 - Calcolare l'area di un triangolo usando la lunghezza di due lati adiacenti e l'ampiezza dell'angolo compreso.__"
   ]
  },
  {
   "cell_type": "code",
   "execution_count": null,
   "metadata": {},
   "outputs": [],
   "source": []
  },
  {
   "cell_type": "markdown",
   "metadata": {},
   "source": [
    "__6 - Dato come input il tempo T,  calcolare la posizione di un corpo di massa M che si muove, lungo la verticale, nel campo gravitazionale terrestre con g = 9.81 m/s\\*\\*2. Quali informazioni sono necessarie per poter rispondere?__\n"
   ]
  },
  {
   "cell_type": "markdown",
   "metadata": {},
   "source": [
    "y = 1/2\\*g\\*T\\*\\*2 + v0\\*T + y0. Input necessari: T, v0, y0."
   ]
  },
  {
   "cell_type": "code",
   "execution_count": null,
   "metadata": {},
   "outputs": [],
   "source": []
  },
  {
   "cell_type": "markdown",
   "metadata": {},
   "source": [
    "__7 - Dato come input un angolo alfa, calcolare il seno e il coseno di 2\\*alfa usando le formule di duplicazione.\n",
    "Calcolare la differenza relativa fra il risultato ottenuto e quello che si ottiene caolando direttamente sin(2\\*alfa) e cos(2\\*alfa).__"
   ]
  },
  {
   "cell_type": "code",
   "execution_count": 12,
   "metadata": {},
   "outputs": [
    {
     "data": {
      "text/plain": [
       "-0.966798192579461"
      ]
     },
     "execution_count": 12,
     "metadata": {},
     "output_type": "execute_result"
    }
   ],
   "source": [
    "import math\n",
    "alfa = 1.7\n",
    "r1 = math.cos(alfa)**2 - math.sin(alfa)**2  # cos(2 alfa)\n",
    "r1"
   ]
  },
  {
   "cell_type": "code",
   "execution_count": 13,
   "metadata": {},
   "outputs": [
    {
     "data": {
      "text/plain": [
       "-0.9667981925794611"
      ]
     },
     "execution_count": 13,
     "metadata": {},
     "output_type": "execute_result"
    }
   ],
   "source": [
    "r2 = math.cos(2*alfa)\n",
    "r2"
   ]
  },
  {
   "cell_type": "code",
   "execution_count": 14,
   "metadata": {},
   "outputs": [
    {
     "data": {
      "text/plain": [
       "1.1483503311720427e-16"
      ]
     },
     "execution_count": 14,
     "metadata": {},
     "output_type": "execute_result"
    }
   ],
   "source": [
    "(r2 - r1)/r2"
   ]
  },
  {
   "cell_type": "code",
   "execution_count": 15,
   "metadata": {},
   "outputs": [],
   "source": [
    "r3 = 2*math.cos(alfa)*math.sin(alfa)\n",
    "r4 = math.sin(2*alfa)"
   ]
  },
  {
   "cell_type": "code",
   "execution_count": 16,
   "metadata": {},
   "outputs": [
    {
     "data": {
      "text/plain": [
       "-0.0"
      ]
     },
     "execution_count": 16,
     "metadata": {},
     "output_type": "execute_result"
    }
   ],
   "source": [
    "(r4 - r3)/r4"
   ]
  },
  {
   "cell_type": "markdown",
   "metadata": {},
   "source": [
    "__8 - Dato un numero intero n minore di 10, calcolare n + nn + nnn.__"
   ]
  },
  {
   "cell_type": "code",
   "execution_count": null,
   "metadata": {},
   "outputs": [],
   "source": [
    "n = 5 \n",
    "ans = n + (10*n +n) + (100*n +10*n +n)"
   ]
  },
  {
   "cell_type": "markdown",
   "metadata": {},
   "source": [
    "__9 - Dato un capitale iniziale C, il tasso di interesse annuale T e il numero di anni N, calcolare il capitale alla scadenza.__"
   ]
  },
  {
   "cell_type": "code",
   "execution_count": null,
   "metadata": {},
   "outputs": [],
   "source": [
    "C = 100\n",
    "T = 3.5\n",
    "S1 = C*(1 + T)\n",
    "S2 = S1*(1 + T)\n",
    "SN = C*(1 + T)**N"
   ]
  },
  {
   "cell_type": "markdown",
   "metadata": {},
   "source": [
    "__10 - Calcolare il punto medio di un segmento nel piano. Che input sono necessari?__"
   ]
  },
  {
   "cell_type": "code",
   "execution_count": null,
   "metadata": {},
   "outputs": [],
   "source": [
    "ax = 3.\n",
    "ay = 7.\n",
    "bx = -2.\n",
    "by = 7./4.\n",
    "medx = (ax + bx)/2.\n",
    "medy = (ay + by)/2."
   ]
  }
 ],
 "metadata": {
  "hide_input": false,
  "kernelspec": {
   "display_name": "Python 3",
   "language": "python",
   "name": "python3"
  },
  "language_info": {
   "codemirror_mode": {
    "name": "ipython",
    "version": 3
   },
   "file_extension": ".py",
   "mimetype": "text/x-python",
   "name": "python",
   "nbconvert_exporter": "python",
   "pygments_lexer": "ipython3",
   "version": "3.7.7"
  },
  "toc": {
   "base_numbering": 1,
   "nav_menu": {},
   "number_sections": true,
   "sideBar": true,
   "skip_h1_title": true,
   "title_cell": "Table of Contents",
   "title_sidebar": "Contents",
   "toc_cell": false,
   "toc_position": {},
   "toc_section_display": true,
   "toc_window_display": false
  },
  "varInspector": {
   "cols": {
    "lenName": 16,
    "lenType": 16,
    "lenVar": 40
   },
   "kernels_config": {
    "python": {
     "delete_cmd_postfix": "",
     "delete_cmd_prefix": "del ",
     "library": "var_list.py",
     "varRefreshCmd": "print(var_dic_list())"
    },
    "r": {
     "delete_cmd_postfix": ") ",
     "delete_cmd_prefix": "rm(",
     "library": "var_list.r",
     "varRefreshCmd": "cat(var_dic_list()) "
    }
   },
   "types_to_exclude": [
    "module",
    "function",
    "builtin_function_or_method",
    "instance",
    "_Feature"
   ],
   "window_display": false
  }
 },
 "nbformat": 4,
 "nbformat_minor": 4
}
