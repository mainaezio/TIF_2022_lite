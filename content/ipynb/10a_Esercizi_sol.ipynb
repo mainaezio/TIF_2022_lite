{
 "cells": [
  {
   "cell_type": "markdown",
   "metadata": {},
   "source": [
    "# Programmare in Python\n",
    "\n",
    "## Esercizi: Scipy\n"
   ]
  },
  {
   "cell_type": "code",
   "execution_count": 2,
   "metadata": {},
   "outputs": [],
   "source": [
    "import matplotlib.pyplot as plt\n",
    "import numpy as np\n",
    "import scipy\n",
    "import scipy.integrate\n",
    "from scipy.optimize import bisect"
   ]
  },
  {
   "cell_type": "markdown",
   "metadata": {},
   "source": [
    "__1 - Trovate le intersezioni fra le curva $y = x^2 - 4 \\,\\sqrt{x}\\,\\,$ e la retta $\\,y = 3$.__"
   ]
  },
  {
   "cell_type": "code",
   "execution_count": null,
   "metadata": {},
   "outputs": [],
   "source": [
    "def f1(x):\n",
    "    return x*x -4*np.sqrt(x)-3\n",
    "x = np.linspace(0,5,100)\n",
    "fig, ax = plt.subplots()\n",
    "ax.plot(x,f1(x))"
   ]
  },
  {
   "cell_type": "code",
   "execution_count": null,
   "metadata": {},
   "outputs": [],
   "source": [
    "x0 = bisect(f1, 2.5, 3.5, xtol=1e-6)\n",
    "x0"
   ]
  },
  {
   "cell_type": "markdown",
   "metadata": {},
   "source": [
    "__2 - Determinare  le due soluzioni più vicine all’origine di: $\\sin(x) + \\cos(x) = 0$. Verificare la soluzione facendo il grafico.__"
   ]
  },
  {
   "cell_type": "code",
   "execution_count": null,
   "metadata": {},
   "outputs": [],
   "source": [
    "def f2(x):\n",
    "    return np.cos(x) + np.sin(x) \n",
    "x = np.linspace(-np.pi,np.pi,100)\n",
    "fig, ax = plt.subplots()\n",
    "ax.plot(x,f2(x))"
   ]
  },
  {
   "cell_type": "code",
   "execution_count": null,
   "metadata": {},
   "outputs": [],
   "source": [
    "x1 = bisect(f2, -1.0, 0.0, xtol=1e-6)\n",
    "x2 = bisect(f2, 2.0, 2.5, xtol=1e-6)\n",
    "print(x1,x2)\n",
    "print(-np.pi/4,3*np.pi/4)"
   ]
  },
  {
   "cell_type": "markdown",
   "metadata": {},
   "source": [
    "__3 - Calcolate numericamente, usando la funzione `quad`, l'integrale:__\n",
    "$$\\,\\int_0^1 dx\\,e^{-x^2}$$"
   ]
  },
  {
   "cell_type": "code",
   "execution_count": null,
   "metadata": {},
   "outputs": [],
   "source": []
  },
  {
   "cell_type": "code",
   "execution_count": null,
   "metadata": {},
   "outputs": [],
   "source": [
    "help(scipy.integrate.quad)"
   ]
  },
  {
   "cell_type": "markdown",
   "metadata": {},
   "source": [
    "__4 - Calcolate l'integrale:__\n",
    "$$\\int_{-2}^2 dx\\,\\sqrt{4 - x^2}$$\n",
    "__Confrontate con il risultato esatto $\\,2\\, \\pi$.__ "
   ]
  },
  {
   "cell_type": "code",
   "execution_count": null,
   "metadata": {},
   "outputs": [],
   "source": []
  },
  {
   "cell_type": "markdown",
   "metadata": {},
   "source": [
    "__5 - Calcolate numericamente, usando la funzione `quad`, l'integrale:__\n",
    "$$\\,\\int_0^\\infty dx\\,e^{-x^2}$$\n",
    "__Confrontate con il risultato esatto $\\sqrt{ \\pi}\\,/\\,2$.__ "
   ]
  },
  {
   "cell_type": "code",
   "execution_count": null,
   "metadata": {},
   "outputs": [],
   "source": []
  },
  {
   "cell_type": "markdown",
   "metadata": {},
   "source": [
    "__6 - Trovate le radici dell'equazione $\\,x = \\sqrt{8/x -1}$ usando il metodo di bisezione. Prima di procedere determinate in quale intervallo l'equazione è definita. Fate il grafico della funzione in modo da scegliere opportunamente i parametri per il metodo di bisezione.__"
   ]
  },
  {
   "cell_type": "code",
   "execution_count": null,
   "metadata": {},
   "outputs": [],
   "source": [
    "def f(x):\n",
    "    return np.sqrt(8/x-1)-x\n",
    "\n",
    "x = np.linspace(0.5,7.5,100)\n",
    "fig, ax = plt.subplots()\n",
    "ax.plot(x,f(x))"
   ]
  },
  {
   "cell_type": "markdown",
   "metadata": {},
   "source": [
    "__7 - Calcolate l'integrale:__\n",
    "$$\\int_0^{\\frac{\\pi}{2}} dx\\,x^3$$\n",
    "__Confrontate con il risultato esatto $\\frac{\\pi^4}{2^6}$.__<br>\n",
    "__Calcolate lo stesso integrale usando il metodo dei trapezi, variando il numero di trapezi utilizzato.__<BR>\n",
    "__Ripetete tutti i passaggi per:__\n",
    "    $$\\int_0^{\\frac{\\pi}{2}} dx\\,\\sin^2(x)$$\n",
    "__Il risultato esatto in questo caso è $\\frac{\\pi}{4}$.__"
   ]
  },
  {
   "cell_type": "markdown",
   "metadata": {},
   "source": [
    "Caso sin**2"
   ]
  },
  {
   "cell_type": "code",
   "execution_count": null,
   "metadata": {},
   "outputs": [],
   "source": [
    "def ff(x):\n",
    "    return np.sin(x)**2\n",
    "\n",
    "res, err = scipy.integrate.quad(ff, 0, np.pi/2)\n",
    "print(f\"The numerical result is {res:f} (+-{err:g})\")"
   ]
  },
  {
   "cell_type": "code",
   "execution_count": null,
   "metadata": {},
   "outputs": [],
   "source": [
    "#help(scipy.integrate.trapz)\n",
    "\n",
    "n_trap = 10\n",
    "x = np.linspace(0, np.pi/2,n_trap+1)\n",
    "y = ff(x)\n",
    "\n",
    "res1 = scipy.integrate.trapz(x,y)\n",
    "print(f\"The numerical result using {n_trap:d} trapezoids is {res1:18.15f}\")"
   ]
  },
  {
   "cell_type": "code",
   "execution_count": null,
   "metadata": {},
   "outputs": [],
   "source": [
    "n_trap = 5\n",
    "x = np.linspace(0, np.pi/2,n_trap+1)\n",
    "y = ff(x)\n",
    "\n",
    "res1 = scipy.integrate.trapz(x,y)\n",
    "print(f\"The numerical result using {n_trap:d} trapezoids is {res1:18.15f}\")"
   ]
  },
  {
   "cell_type": "code",
   "execution_count": null,
   "metadata": {},
   "outputs": [],
   "source": [
    "n_trap = 2\n",
    "x = np.linspace(0, np.pi/2,n_trap+1)\n",
    "y = ff(x)\n",
    "\n",
    "res1 = scipy.integrate.trapz(x,y)\n",
    "print(f\"The numerical result using {n_trap:d} trapezoids is {res1:18.15f}\")"
   ]
  },
  {
   "cell_type": "markdown",
   "metadata": {},
   "source": [
    "Caso x**3<BR>\n",
    "Il risultato non sembra dipendere dal numero di trapezi. Non può essere vero per una funzione qualsiasi:"
   ]
  },
  {
   "cell_type": "code",
   "execution_count": null,
   "metadata": {},
   "outputs": [],
   "source": [
    "def ff1(x):\n",
    "    return x**3\n",
    "\n",
    "n_trap = 5\n",
    "x = np.linspace(0, 1,n_trap+1)\n",
    "y = ff1(x)\n",
    "\n",
    "res1 = scipy.integrate.trapz(x,y)\n",
    "print(f\"The numerical result using {n_trap:d} trapezoids is {res1:18.15f}\")\n",
    "\n",
    "n_trap = 10\n",
    "x = np.linspace(0, 1,n_trap+1)\n",
    "y = ff1(x)\n",
    "\n",
    "res1 = scipy.integrate.trapz(x,y)\n",
    "print(f\"The numerical result using {n_trap:d} trapezoids is {res1:18.15f}\")\n",
    "\n",
    "res, err = scipy.integrate.quad(ff, 0, np.pi/2)\n",
    "print(f\"The numerical result using quad is {res:18.15f} (+-{err:g})\")"
   ]
  },
  {
   "cell_type": "markdown",
   "metadata": {},
   "source": [
    "__8 - Trovate gli zeri della funzione:__\n",
    "$$ y(t) = t\\,(1-t) + t\\, e^{-t}$$"
   ]
  },
  {
   "cell_type": "code",
   "execution_count": null,
   "metadata": {},
   "outputs": [],
   "source": []
  },
  {
   "cell_type": "markdown",
   "metadata": {},
   "source": [
    "__9 - Importate i dati contenuti in `../Data/parabolic_data.txt`. Fate un fit dei dati utilizzando la funzione $y(x) = a x^2 +b x +c$ con $a,\\,b,\\,c$ come parametri liberi.__\n",
    "\n",
    "__Sovrapponete ai dati la funzione ottenuta dal fit.__"
   ]
  },
  {
   "cell_type": "code",
   "execution_count": 15,
   "metadata": {},
   "outputs": [
    {
     "name": "stdout",
     "output_type": "stream",
     "text": [
      "Optimal parameters are af=1.67592, bf=2.25506, and cf=-1.12947.\n"
     ]
    },
    {
     "data": {
      "text/plain": [
       "<matplotlib.legend.Legend at 0x7fa10f1d14c0>"
      ]
     },
     "execution_count": 15,
     "metadata": {},
     "output_type": "execute_result"
    },
    {
     "data": {
      "image/png": "[encoded data removed]",
      "text/plain": [
       "<Figure size 432x288 with 1 Axes>"
      ]
     },
     "metadata": {
      "needs_background": "light"
     },
     "output_type": "display_data"
    }
   ],
   "source": [
    "import numpy as np\n",
    "\n",
    "x, y = np.loadtxt( \"../Data/parabolic_data.txt\", unpack=True)\n",
    "\n",
    "def f(x, a, b, c):\n",
    "    \"\"\"Fit function y=f(x,p) with parameters p=(a,b,c). \"\"\"\n",
    "    return a * x*x + b * x + c\n",
    "\n",
    "#call curve fit function\n",
    "popt, pcov = curve_fit(f, x, y)\n",
    "# extract fit parameters\n",
    "af, bf, cf = popt\n",
    "print(f\"Optimal parameters are af={af:g}, bf={bf:g}, and cf={cf:g}.\")\n",
    "\n",
    "# best fit curve\n",
    "yfitted = f(x,af,bf,cf)\n",
    "\n",
    "#plot\n",
    "import matplotlib.pyplot as plt\n",
    "fig, ax = plt.subplots(figsize=(6,4))\n",
    "ax.scatter(x, y, marker='o', label='data $y_i$')\n",
    "ax.plot(x, yfitted, c='r', label='fit $f(x_i)$')\n",
    "ax.set_xlabel('x')\n",
    "ax.legend()"
   ]
  },
  {
   "cell_type": "markdown",
   "metadata": {},
   "source": [
    "__10 - Importate i dati contenuti in `../Data/decay_data.txt` (05_input-output-files.ipynb). I dati (falsi) rappresentano il numero di particelle $\\alpha$ rilevate al secondo vicino a un elemento radioattivo $X$. Il tempo delle misure è dato nella prima colonna in secondi a partire dall'inizio dell'esperimento. La seconda e terza colonna forniscono il numero di particelle al secondo e la corrispondente incertezza.__\n",
    "\n",
    "- __Fate un plot dei dati. Inserite i titoli opportuni per i due assi.__\n",
    "\n",
    "- __Il numero di nuclei non decaduti di un elemento radioattivo segue una legge del tipo:__\n",
    "$$R(t) = R_0~e^{-t/\\tau}$$\n",
    "__dove $R_0$ è il numero di nuclei a $t=0$, e $\\tau$ è la vita media. \n",
    "Il numero di decadimenti fra $t_1$ e $t_1 + 1$ è dato da__\n",
    "$$D(t) = R_0~e^{-t/\\tau}\\left( 1 - \\frac{1}{\\tau} \\right)\\approx \\frac{R_0}{\\tau}~e^{-t/\\tau} $$\n",
    "__Fate un fit dei dati utilizzando la funzione $D(t)$ con $R_0/\\tau$ e $1/\\tau$ come parametri liberi.__<BR>\n",
    "__Notate che `curve_fit` non riesce a determinare i parametri.__\n",
    "__Due possibili soluzioni sono:__\n",
    "    - __Fornire a `curve_fit` una stima del valore dei parametri (variabile p0 in input. Leggete la documentazione di `curve_fit`)__\n",
    "    - __Fare il fit del logaritmo dei dati usando una retta: $\\,\\,\\log(D(t)) = a - b*x$__\n",
    "\n",
    "__Sovrapponete ai dati la funzione ottenuta dal fit.__<BR>\n",
    "__I dati sono stati generati con $R_0 = 1\\cdot 10^{14},\\,\\tau = 3000.$__"
   ]
  },
  {
   "cell_type": "code",
   "execution_count": 16,
   "metadata": {},
   "outputs": [],
   "source": [
    "import numpy as np\n",
    "from scipy.optimize import curve_fit"
   ]
  },
  {
   "cell_type": "code",
   "execution_count": 17,
   "metadata": {},
   "outputs": [
    {
     "name": "stdout",
     "output_type": "stream",
     "text": [
      "[120. 240. 360. 480. 600.]\n",
      "[3.15186053e+10 2.93376640e+10 3.04481552e+10 2.91939068e+10\n",
      " 2.81835038e+10]\n"
     ]
    }
   ],
   "source": [
    "time, decay = np.loadtxt( \"../Data/decay_data.txt\" , unpack=True)\n",
    "print(time[:5])\n",
    "print(decay[:5])"
   ]
  },
  {
   "cell_type": "code",
   "execution_count": 18,
   "metadata": {},
   "outputs": [
    {
     "data": {
      "text/plain": [
       "[<matplotlib.lines.Line2D at 0x7fa10f2f09d0>]"
      ]
     },
     "execution_count": 18,
     "metadata": {},
     "output_type": "execute_result"
    },
    {
     "data": {
      "image/png": "[encoded data removed]",
      "text/plain": [
       "<Figure size 720x432 with 1 Axes>"
      ]
     },
     "metadata": {
      "needs_background": "light"
     },
     "output_type": "display_data"
    }
   ],
   "source": [
    "import matplotlib.pyplot as plt\n",
    "fig,ax =plt.subplots(figsize=(10,6))\n",
    "ax.plot(time,decay)"
   ]
  },
  {
   "cell_type": "code",
   "execution_count": 19,
   "metadata": {},
   "outputs": [],
   "source": [
    "def f1(x, N_over_lam, inv_lam):\n",
    "    \"\"\"Fit function y=f(x,p) with parameters p=(N_over_lam,inv_lam). \"\"\"\n",
    "    return N_over_lam * np.exp(- x*inv_lam)"
   ]
  },
  {
   "cell_type": "markdown",
   "metadata": {},
   "source": [
    "Il fit di default (tutti i parametri inizializzati a 1.) non funziona."
   ]
  },
  {
   "cell_type": "code",
   "execution_count": 23,
   "metadata": {},
   "outputs": [
    {
     "name": "stdout",
     "output_type": "stream",
     "text": [
      "Optimal parameters are N0/tau=1.000000e+00, 1/tau=1.000000e+00.\n"
     ]
    }
   ],
   "source": [
    "popt1, pcov1 = curve_fit(f1, time, decay)\n",
    "N_over_tau1, inv_tau1 = popt1\n",
    "print(f\"Optimal parameters are N0/tau={N_over_tau1:e}, 1/tau={inv_tau1:e}.\")"
   ]
  },
  {
   "cell_type": "markdown",
   "metadata": {},
   "source": [
    "Fornisco una stima dell'ordine di grandezza dei parametri da ottimizzare: "
   ]
  },
  {
   "cell_type": "code",
   "execution_count": 24,
   "metadata": {},
   "outputs": [
    {
     "name": "stdout",
     "output_type": "stream",
     "text": [
      "Optimal parameters are N0/tau=3.321573e+10, 1/tau=3.334332e-04.\n"
     ]
    }
   ],
   "source": [
    "popt1, pcov1 = curve_fit(f1, time, decay,p0=[1.e11,1.e-3])\n",
    "N_over_tau1, inv_tau1 = popt1\n",
    "print(f\"Optimal parameters are N0/tau={N_over_tau1:e}, 1/tau={inv_tau1:e}.\")"
   ]
  },
  {
   "cell_type": "markdown",
   "metadata": {},
   "source": [
    "Faccio il fit di log(data) con una retta. Prendo solo i primi cento dati per evitare eventuali zeri negli ultimi risultati."
   ]
  },
  {
   "cell_type": "code",
   "execution_count": 26,
   "metadata": {},
   "outputs": [
    {
     "name": "stdout",
     "output_type": "stream",
     "text": [
      "Optimal parameters are a=2.422276e+01, b=3.322916e-04.\n",
      "actual parameters are a=2.422982e+01, b=3.333333e-04\n"
     ]
    }
   ],
   "source": [
    "def flog(x, a, b):\n",
    "    \"\"\"Fit function y=f(x,p) with parameters p=(a,b,c). \"\"\"\n",
    "    return a - b * x\n",
    "\n",
    "popt2, pcov2 = curve_fit(flog, time[:100], np.log(decay[:100]))\n",
    "\n",
    "a, b = popt2\n",
    "print(f\"Optimal parameters are a={a:e}, b={b:e}.\")\n",
    "print(f\"actual parameters are a={np.log(1.e14/3e3):e}, b={1/3000:e}\")"
   ]
  }
 ],
 "metadata": {
  "hide_input": false,
  "kernelspec": {
   "display_name": "Python 3",
   "language": "python",
   "name": "python3"
  },
  "language_info": {
   "codemirror_mode": {
    "name": "ipython",
    "version": 3
   },
   "file_extension": ".py",
   "mimetype": "text/x-python",
   "name": "python",
   "nbconvert_exporter": "python",
   "pygments_lexer": "ipython3",
   "version": "3.8.5"
  },
  "toc": {
   "base_numbering": 1,
   "nav_menu": {},
   "number_sections": true,
   "sideBar": true,
   "skip_h1_title": true,
   "title_cell": "Table of Contents",
   "title_sidebar": "Contents",
   "toc_cell": false,
   "toc_position": {},
   "toc_section_display": true,
   "toc_window_display": false
  },
  "varInspector": {
   "cols": {
    "lenName": 16,
    "lenType": 16,
    "lenVar": 40
   },
   "kernels_config": {
    "python": {
     "delete_cmd_postfix": "",
     "delete_cmd_prefix": "del ",
     "library": "var_list.py",
     "varRefreshCmd": "print(var_dic_list())"
    },
    "r": {
     "delete_cmd_postfix": ") ",
     "delete_cmd_prefix": "rm(",
     "library": "var_list.r",
     "varRefreshCmd": "cat(var_dic_list()) "
    }
   },
   "types_to_exclude": [
    "module",
    "function",
    "builtin_function_or_method",
    "instance",
    "_Feature"
   ],
   "window_display": false
  }
 },
 "nbformat": 4,
 "nbformat_minor": 4
}
