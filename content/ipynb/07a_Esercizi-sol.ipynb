{
 "cells": [
  {
   "cell_type": "markdown",
   "metadata": {},
   "source": [
    "# Programmare in Python\n",
    "\n",
    "## Esercizi: Numpy\n",
    "\n",
    "In questi esercizi array si riferisce a numpy.array\n"
   ]
  },
  {
   "cell_type": "markdown",
   "metadata": {},
   "source": [
    "__1 - Create un array di 50 elementi, ciascuno uguale a $e$, la base dei logaritmi naturali. Verificate che l'array contenga esattamente 50 elementi.__ "
   ]
  },
  {
   "cell_type": "code",
   "execution_count": null,
   "metadata": {},
   "outputs": [],
   "source": []
  },
  {
   "cell_type": "markdown",
   "metadata": {},
   "source": [
    "__2 - Create un array che contenga tutti gli angoli fra 0 e 360 gradi, in incrementi di un grado. Quanti sono gli elementi?__"
   ]
  },
  {
   "cell_type": "code",
   "execution_count": null,
   "metadata": {},
   "outputs": [],
   "source": []
  },
  {
   "cell_type": "markdown",
   "metadata": {},
   "source": [
    "__3 - Create un array di nove numeri equidistanti, il cui primo e ultimo elemento siano rispettivamente 0 e 23, e assegnarlo alla variabile r. Calcolate il quadrato di ciascun elemento di r. Calcolate il doppio di ogni elemento di r usando 1) moltiplicazione 2) somma.__ "
   ]
  },
  {
   "cell_type": "code",
   "execution_count": null,
   "metadata": {},
   "outputs": [],
   "source": []
  },
  {
   "cell_type": "markdown",
   "metadata": {},
   "source": [
    "__4 - Create un array da 13 a 19, 19 escluso, in incrementi di 0.2__"
   ]
  },
  {
   "cell_type": "code",
   "execution_count": null,
   "metadata": {},
   "outputs": [],
   "source": []
  },
  {
   "cell_type": "markdown",
   "metadata": {},
   "source": [
    "__5 - Create un array da 13 a 19, 19 incluso, in incrementi di 0.2__"
   ]
  },
  {
   "cell_type": "code",
   "execution_count": null,
   "metadata": {},
   "outputs": [],
   "source": []
  },
  {
   "cell_type": "markdown",
   "metadata": {},
   "source": [
    "__6 - Create un array 5 × 5 che sia zero dappertutto ad eccezione della diagonale dove gli elementi sono [1,2,3,4,5]. Determinare size e shape dell'array.__"
   ]
  },
  {
   "cell_type": "code",
   "execution_count": null,
   "metadata": {},
   "outputs": [],
   "source": []
  },
  {
   "cell_type": "markdown",
   "metadata": {},
   "source": [
    "__7 - Create un array 8 × 8 con righe alternate di uno e zero.__"
   ]
  },
  {
   "cell_type": "code",
   "execution_count": 2,
   "metadata": {},
   "outputs": [
    {
     "name": "stdout",
     "output_type": "stream",
     "text": [
      "[[0. 0. 0. 0. 0. 0. 0. 0.]\n",
      " [0. 0. 0. 0. 0. 0. 0. 0.]\n",
      " [0. 0. 0. 0. 0. 0. 0. 0.]\n",
      " [0. 0. 0. 0. 0. 0. 0. 0.]\n",
      " [0. 0. 0. 0. 0. 0. 0. 0.]\n",
      " [0. 0. 0. 0. 0. 0. 0. 0.]\n",
      " [0. 0. 0. 0. 0. 0. 0. 0.]\n",
      " [0. 0. 0. 0. 0. 0. 0. 0.]]\n",
      "\n"
     ]
    },
    {
     "data": {
      "text/plain": [
       "array([[1, 1, 1, 1, 1, 1, 1, 1],\n",
       "       [0, 0, 0, 0, 0, 0, 0, 0],\n",
       "       [1, 1, 1, 1, 1, 1, 1, 1],\n",
       "       [0, 0, 0, 0, 0, 0, 0, 0],\n",
       "       [1, 1, 1, 1, 1, 1, 1, 1],\n",
       "       [0, 0, 0, 0, 0, 0, 0, 0],\n",
       "       [1, 1, 1, 1, 1, 1, 1, 1],\n",
       "       [0, 0, 0, 0, 0, 0, 0, 0]])"
      ]
     },
     "execution_count": 2,
     "metadata": {},
     "output_type": "execute_result"
    }
   ],
   "source": [
    "import numpy as np\n",
    "A = np.zeros((8,8))\n",
    "print(A)\n",
    "print()\n",
    "A[0:9:2,:]= 1 \n",
    "A.astype('int')"
   ]
  },
  {
   "cell_type": "markdown",
   "metadata": {},
   "source": [
    "__8 - Create un array 7 × 7 con colonne alternate di uno e zero.__"
   ]
  },
  {
   "cell_type": "code",
   "execution_count": null,
   "metadata": {},
   "outputs": [],
   "source": []
  },
  {
   "cell_type": "markdown",
   "metadata": {},
   "source": [
    "__9 - Dato l'array k = np.arange(2, 100, 3), aggiungete 100 a tutti i multipli di 7.__"
   ]
  },
  {
   "cell_type": "code",
   "execution_count": 3,
   "metadata": {},
   "outputs": [
    {
     "name": "stdout",
     "output_type": "stream",
     "text": [
      "[ 2  5  8 11 14 17 20 23 26 29 32 35 38 41 44 47 50 53 56 59 62 65 68 71\n",
      " 74 77 80 83 86 89 92 95 98]\n"
     ]
    }
   ],
   "source": [
    "k = np.arange(2, 100, 3)\n",
    "print(k)"
   ]
  },
  {
   "cell_type": "code",
   "execution_count": 14,
   "metadata": {},
   "outputs": [],
   "source": [
    "d=np.where(k%7==0)"
   ]
  },
  {
   "cell_type": "code",
   "execution_count": 24,
   "metadata": {},
   "outputs": [],
   "source": [
    "k[d] = k[d]+100 "
   ]
  },
  {
   "cell_type": "code",
   "execution_count": 25,
   "metadata": {},
   "outputs": [
    {
     "data": {
      "text/plain": [
       "array([  2,   5,   8,  11, 114,  17,  20,  23,  26,  29,  32, 135,  38,\n",
       "        41,  44,  47,  50,  53, 156,  59,  62,  65,  68,  71,  74, 177,\n",
       "        80,  83,  86,  89,  92,  95, 198])"
      ]
     },
     "execution_count": 25,
     "metadata": {},
     "output_type": "execute_result"
    }
   ],
   "source": [
    "k"
   ]
  },
  {
   "cell_type": "markdown",
   "metadata": {},
   "source": [
    "Altra soluzione:<BR>\n",
    "np.where ha ulteriori possibilità:\n",
    "np.where(condition,A,B) restituisce l'elemento di A se la condizione è verificata e l'elemento di B se non lo è.<BR>\n",
    "e.g:"
   ]
  },
  {
   "cell_type": "code",
   "execution_count": 6,
   "metadata": {},
   "outputs": [
    {
     "data": {
      "text/plain": [
       "array([  2,   5,   8,  11, 114,  17,  20,  23,  26,  29,  32, 135,  38,\n",
       "        41,  44,  47,  50,  53, 156,  59,  62,  65,  68,  71,  74, 177,\n",
       "        80,  83,  86,  89,  92,  95, 198])"
      ]
     },
     "execution_count": 6,
     "metadata": {},
     "output_type": "execute_result"
    }
   ],
   "source": [
    "d = np.where(k%7==0,100+k,k)\n",
    "d"
   ]
  },
  {
   "cell_type": "markdown",
   "metadata": {},
   "source": [
    "__10 - Costruite la matrice:__\n",
    "$$A = \\begin{bmatrix} -2 & 3\\\\ 4 & 5 \\end{bmatrix}$$\n",
    "__Calcolate il determinante e, se possibile, l'inversa. Se l'inversa esiste controllate il vostro risultato calcolando il prodotto della matrice $A$ e della sua inversa.__"
   ]
  },
  {
   "cell_type": "code",
   "execution_count": null,
   "metadata": {},
   "outputs": [],
   "source": []
  },
  {
   "cell_type": "markdown",
   "metadata": {},
   "source": [
    "__11 - Risolvete il sistema di equazioni lineari:__\n",
    "$$ 3 a + b - c = 1$$\n",
    "$$ a - b + 2 c = 3$$\n",
    "$$ -2 a + 3 b = 2$$ "
   ]
  },
  {
   "cell_type": "code",
   "execution_count": null,
   "metadata": {},
   "outputs": [],
   "source": []
  },
  {
   "cell_type": "markdown",
   "metadata": {},
   "source": [
    "__12 - Scrivete una funzione che calcoli la distanza euclidea fra due punti in uno spazio ad N dimensioni, qualunque sia N.__"
   ]
  },
  {
   "cell_type": "code",
   "execution_count": null,
   "metadata": {},
   "outputs": [],
   "source": []
  },
  {
   "cell_type": "markdown",
   "metadata": {},
   "source": [
    "__13 - La posizione, al tempo t, di una palla che sia stata lasciata cadere con velocità iniziale nulla da una altezza h0 è data da:\n",
    "$$y = h0 − \\frac{1}{2}\\, g\\, t^2$$ \n",
    "dove $g = 9.81 m/s^2$. Supponiamo $h0 = 10\\, m$. Trovate la sequenza di tempi a cui la palla completa ciascun intervallo di lunghezza mezzo metro, supponendo che la palla sia lasciata cadere a t=0. <br>\n",
    "Suggerimento: create un array NumPy per y che va da 10 a 0 in incrementi di −0.5 usando la funzione arange.<br>\n",
    "Salvate il vostro codice in una funzione. Una volta creati gli array y e t eseguite il comando `list(zip(t, y))`. Interpretate il risultato.__(D.J.Pine - Introduction to Python for Science and Engineering)"
   ]
  },
  {
   "cell_type": "code",
   "execution_count": 39,
   "metadata": {},
   "outputs": [
    {
     "name": "stdout",
     "output_type": "stream",
     "text": [
      "21\n"
     ]
    },
    {
     "data": {
      "text/plain": [
       "array([10. ,  9.5,  9. ,  8.5,  8. ,  7.5,  7. ,  6.5,  6. ,  5.5,  5. ,\n",
       "        4.5,  4. ,  3.5,  3. ,  2.5,  2. ,  1.5,  1. ,  0.5,  0. ])"
      ]
     },
     "execution_count": 39,
     "metadata": {},
     "output_type": "execute_result"
    }
   ],
   "source": [
    "import numpy as np\n",
    "y = np.arange(10.,-0.1,-0.5)\n",
    "print(len(y))\n",
    "y"
   ]
  },
  {
   "cell_type": "markdown",
   "metadata": {},
   "source": [
    "$t = \\sqrt{2 (h0 - y)/g}$"
   ]
  },
  {
   "cell_type": "code",
   "execution_count": 40,
   "metadata": {},
   "outputs": [
    {
     "name": "stdout",
     "output_type": "stream",
     "text": [
      "21\n"
     ]
    },
    {
     "data": {
      "text/plain": [
       "array([0.        , 0.31927543, 0.45152364, 0.55300126, 0.63855086,\n",
       "       0.71392156, 0.78206189, 0.84472338, 0.90304728, 0.95782629,\n",
       "       1.00963755, 1.0589168 , 1.10600253, 1.15116393, 1.19461927,\n",
       "       1.23654842, 1.27710171, 1.31640631, 1.35457092, 1.39168933,\n",
       "       1.42784312])"
      ]
     },
     "execution_count": 40,
     "metadata": {},
     "output_type": "execute_result"
    }
   ],
   "source": [
    "h0 = 10.\n",
    "g = 9.81\n",
    "t = np.sqrt(2.*(h0 - y)/g)\n",
    "print(len(t))\n",
    "t"
   ]
  },
  {
   "cell_type": "code",
   "execution_count": 41,
   "metadata": {},
   "outputs": [
    {
     "data": {
      "text/plain": [
       "[(0.0, 10.0),\n",
       " (0.3192754284070505, 9.5),\n",
       " (0.4515236409857309, 9.0),\n",
       " (0.553001263609331, 8.5),\n",
       " (0.638550856814101, 8.0),\n",
       " (0.7139215614635323, 7.5),\n",
       " (0.7820618870057751, 7.0),\n",
       " (0.8447233832986626, 6.5),\n",
       " (0.9030472819714618, 6.0),\n",
       " (0.9578262852211513, 5.5),\n",
       " (1.0096375546923044, 5.0),\n",
       " (1.0589168008061642, 4.5),\n",
       " (1.106002527218662, 4.0),\n",
       " (1.1511639281173525, 3.5),\n",
       " (1.194619265114655, 3.0),\n",
       " (1.2365484170737449, 2.5),\n",
       " (1.277101713628202, 2.0),\n",
       " (1.3164063149865983, 1.5),\n",
       " (1.3545709229571927, 1.0),\n",
       " (1.3916893275819882, 0.5),\n",
       " (1.4278431229270645, 0.0)]"
      ]
     },
     "execution_count": 41,
     "metadata": {},
     "output_type": "execute_result"
    }
   ],
   "source": [
    "list(zip(t,y))"
   ]
  },
  {
   "cell_type": "code",
   "execution_count": 42,
   "metadata": {},
   "outputs": [
    {
     "data": {
      "text/plain": [
       "(array([10. ,  9.5,  9. ,  8.5,  8. ,  7.5,  7. ,  6.5,  6. ,  5.5,  5. ,\n",
       "         4.5,  4. ,  3.5,  3. ,  2.5,  2. ,  1.5,  1. ,  0.5,  0. ]),\n",
       " array([0.        , 0.31927543, 0.45152364, 0.55300126, 0.63855086,\n",
       "        0.71392156, 0.78206189, 0.84472338, 0.90304728, 0.95782629,\n",
       "        1.00963755, 1.0589168 , 1.10600253, 1.15116393, 1.19461927,\n",
       "        1.23654842, 1.27710171, 1.31640631, 1.35457092, 1.39168933,\n",
       "        1.42784312]))"
      ]
     },
     "execution_count": 42,
     "metadata": {},
     "output_type": "execute_result"
    }
   ],
   "source": [
    "def my_t_and_y(h0):\n",
    "    g = 9.81\n",
    "    y = np.arange(h0,-0.1,-0.5)\n",
    "    t = np.sqrt(2.*(h0 - y)/g)\n",
    "    return y,t\n",
    "\n",
    "my_t_and_y(10.)"
   ]
  },
  {
   "cell_type": "markdown",
   "metadata": {},
   "source": [
    "__14 - Ricordando che la velocità media su un intervallo $\\Delta t$ è definita come $\\bar{v} = \\Delta y/\\Delta t$, trovate la velocità media per ciascun intervallo del problema precedente utilizzando gli array NumPy.<br>\n",
    "Suggerimento: cosa sono gli array y[1:21] e y[0:20]?.<br> \n",
    "Bonus 1: riuscite a immaginare un modo più elegante di rappresentare y[1:21]-y[0:20] che non fa riferimento esplicito al numero di elementi dell'array y, cioè che funzionerebbe per un array di lunghezza arbitraria?<br>\n",
    "Bonus 2: Calcolate l'accelerazione in funzione del tempo usando la formula $\\bar{a} = \\Delta v/\\Delta t$. Esprimete i tempi a cui le velocità sono calcolate prendendo il punto medio degli intervalli dell'array dei tempi usato in precedenza. Spiegate il risultato ottenuto per le accelerazioni.__(D.J.Pine - Introduction to Python for Science and Engineering)"
   ]
  },
  {
   "cell_type": "code",
   "execution_count": 32,
   "metadata": {},
   "outputs": [
    {
     "name": "stdout",
     "output_type": "stream",
     "text": [
      "0.0\n",
      "1.4278431229270645\n",
      "[9.5 9.  8.5 8.  7.5 7.  6.5 6.  5.5 5.  4.5 4.  3.5 3.  2.5 2.  1.5 1.\n",
      " 0.5 0. ]\n",
      "[9.5 9.  8.5 8.  7.5 7.  6.5 6.  5.5 5.  4.5 4.  3.5 3.  2.5 2.  1.5 1.\n",
      " 0.5 0. ]\n"
     ]
    }
   ],
   "source": [
    "print(y[20])\n",
    "print(t[20])\n",
    "print(y[1:21])\n",
    "print(y[1:len(y)]) # more elegant way"
   ]
  },
  {
   "cell_type": "code",
   "execution_count": 43,
   "metadata": {},
   "outputs": [
    {
     "name": "stdout",
     "output_type": "stream",
     "text": [
      "20\n"
     ]
    },
    {
     "data": {
      "text/plain": [
       "array([-0.5, -0.5, -0.5, -0.5, -0.5, -0.5, -0.5, -0.5, -0.5, -0.5, -0.5,\n",
       "       -0.5, -0.5, -0.5, -0.5, -0.5, -0.5, -0.5, -0.5, -0.5])"
      ]
     },
     "execution_count": 43,
     "metadata": {},
     "output_type": "execute_result"
    }
   ],
   "source": [
    "delta_y = y[1:21] - y[0:20]\n",
    "print(len(delta_y))\n",
    "delta_y"
   ]
  },
  {
   "cell_type": "code",
   "execution_count": 44,
   "metadata": {},
   "outputs": [
    {
     "name": "stdout",
     "output_type": "stream",
     "text": [
      "20\n"
     ]
    },
    {
     "data": {
      "text/plain": [
       "array([0.31927543, 0.13224821, 0.10147762, 0.08554959, 0.0753707 ,\n",
       "       0.06814033, 0.0626615 , 0.0583239 , 0.054779  , 0.05181127,\n",
       "       0.04927925, 0.04708573, 0.0451614 , 0.04345534, 0.04192915,\n",
       "       0.0405533 , 0.0393046 , 0.03816461, 0.0371184 , 0.0361538 ])"
      ]
     },
     "execution_count": 44,
     "metadata": {},
     "output_type": "execute_result"
    }
   ],
   "source": [
    "delta_t = t[1:21] - t[0:20]\n",
    "print(len(delta_t))\n",
    "delta_t"
   ]
  },
  {
   "cell_type": "code",
   "execution_count": 45,
   "metadata": {},
   "outputs": [
    {
     "name": "stdout",
     "output_type": "stream",
     "text": [
      "20\n"
     ]
    },
    {
     "data": {
      "text/plain": [
       "array([ -1.56604598,  -3.78076944,  -4.92719466,  -5.84456315,\n",
       "        -6.63387721,  -7.33779881,  -7.97938175,  -8.57281511,\n",
       "        -9.12758485,  -9.65041013, -10.14625911, -10.6189293 ,\n",
       "       -11.07140146, -11.50606656, -11.92487748, -12.32945389,\n",
       "       -12.72115688, -13.10114335, -13.47040653, -13.82980667])"
      ]
     },
     "execution_count": 45,
     "metadata": {},
     "output_type": "execute_result"
    }
   ],
   "source": [
    "ave_v = delta_y/delta_t\n",
    "print(len(ave_v))\n",
    "ave_v"
   ]
  },
  {
   "cell_type": "code",
   "execution_count": 36,
   "metadata": {},
   "outputs": [
    {
     "name": "stdout",
     "output_type": "stream",
     "text": [
      "20\n"
     ]
    },
    {
     "data": {
      "text/plain": [
       "array([0.15963771, 0.38539953, 0.50226245, 0.59577606, 0.67623621,\n",
       "       0.74799172, 0.81339264, 0.87388533, 0.93043678, 0.98373192,\n",
       "       1.03427718, 1.08245966, 1.12858323, 1.1728916 , 1.21558384,\n",
       "       1.25682507, 1.29675401, 1.33548862, 1.37313013, 1.40976623])"
      ]
     },
     "execution_count": 36,
     "metadata": {},
     "output_type": "execute_result"
    }
   ],
   "source": [
    "t_mid = (t[0:20] + t[1:21])/2.\n",
    "print(len(t_mid))\n",
    "t_mid"
   ]
  },
  {
   "cell_type": "markdown",
   "metadata": {},
   "source": [
    "Check:"
   ]
  },
  {
   "cell_type": "code",
   "execution_count": 25,
   "metadata": {},
   "outputs": [
    {
     "name": "stdout",
     "output_type": "stream",
     "text": [
      "0.0 0.3192754284070505 0.15963771420352524\n"
     ]
    }
   ],
   "source": [
    "i = 0\n",
    "print(t[i],t[i+1],(t[i]+t[i+1])/2)"
   ]
  },
  {
   "cell_type": "code",
   "execution_count": 34,
   "metadata": {},
   "outputs": [
    {
     "name": "stdout",
     "output_type": "stream",
     "text": [
      "1.3916893275819882 1.4278431229270645 1.4097662252545264\n"
     ]
    }
   ],
   "source": [
    "i = 19\n",
    "print(t[i],t[i+1],(t[i]+t[i+1])/2)"
   ]
  },
  {
   "cell_type": "code",
   "execution_count": 46,
   "metadata": {},
   "outputs": [
    {
     "data": {
      "text/plain": [
       "array([-9.81, -9.81, -9.81, -9.81, -9.81, -9.81, -9.81, -9.81, -9.81,\n",
       "       -9.81, -9.81, -9.81, -9.81, -9.81, -9.81, -9.81, -9.81, -9.81,\n",
       "       -9.81])"
      ]
     },
     "execution_count": 46,
     "metadata": {},
     "output_type": "execute_result"
    }
   ],
   "source": [
    "delta_ave_v = ave_v[1:20] - ave_v[0:19]\n",
    "delta_delta_t = t_mid[1:20] - t_mid[0:19]\n",
    "ave_a = delta_ave_v/delta_delta_t\n",
    "ave_a"
   ]
  },
  {
   "cell_type": "code",
   "execution_count": null,
   "metadata": {},
   "outputs": [],
   "source": []
  }
 ],
 "metadata": {
  "hide_input": false,
  "kernelspec": {
   "display_name": "Python 3",
   "language": "python",
   "name": "python3"
  },
  "language_info": {
   "codemirror_mode": {
    "name": "ipython",
    "version": 3
   },
   "file_extension": ".py",
   "mimetype": "text/x-python",
   "name": "python",
   "nbconvert_exporter": "python",
   "pygments_lexer": "ipython3",
   "version": "3.8.5"
  },
  "toc": {
   "base_numbering": 1,
   "nav_menu": {},
   "number_sections": true,
   "sideBar": true,
   "skip_h1_title": true,
   "title_cell": "Table of Contents",
   "title_sidebar": "Contents",
   "toc_cell": false,
   "toc_position": {},
   "toc_section_display": true,
   "toc_window_display": false
  },
  "varInspector": {
   "cols": {
    "lenName": 16,
    "lenType": 16,
    "lenVar": 40
   },
   "kernels_config": {
    "python": {
     "delete_cmd_postfix": "",
     "delete_cmd_prefix": "del ",
     "library": "var_list.py",
     "varRefreshCmd": "print(var_dic_list())"
    },
    "r": {
     "delete_cmd_postfix": ") ",
     "delete_cmd_prefix": "rm(",
     "library": "var_list.r",
     "varRefreshCmd": "cat(var_dic_list()) "
    }
   },
   "types_to_exclude": [
    "module",
    "function",
    "builtin_function_or_method",
    "instance",
    "_Feature"
   ],
   "window_display": false
  }
 },
 "nbformat": 4,
 "nbformat_minor": 4
}
