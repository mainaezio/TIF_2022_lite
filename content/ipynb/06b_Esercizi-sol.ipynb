{
 "cells": [
  {
   "cell_type": "markdown",
   "metadata": {},
   "source": [
    "# Programmare in Python\n",
    "\n",
    "## Laboratorio: Funzioni\n"
   ]
  },
  {
   "cell_type": "markdown",
   "metadata": {},
   "source": [
    "### Come definire una funzione\n",
    "\n",
    "\n",
    "Il format generico della definizione di una funzione è:\n",
    "\n",
    "```python\n",
    "def my_function(arg1, arg2, ..., argn):\n",
    "    \"\"\"Optional docstring.\"\"\"\n",
    "\n",
    "    # Implementation of the function\n",
    "\n",
    "    return result  # optional\n",
    "\n",
    "#this is not part of the function\n",
    "some_command\n",
    "```\n",
    "\n",
    "Le parentesi dopo il nome della funzione sono necessarie. Se una funzione non ha argomenti si scrive:\n",
    "```python\n",
    "def my_function2():\n",
    "```\n",
    "\n",
    "#### Esempio 1\n",
    "Una funzione che prende come input due numeri e ne restituisce la somma:"
   ]
  },
  {
   "cell_type": "code",
   "execution_count": null,
   "metadata": {},
   "outputs": [],
   "source": [
    "def my_sum(a,b):\n",
    "    ''' Calcola la somma dei due numeri in input'''\n",
    "    c = a+b\n",
    "    return c"
   ]
  },
  {
   "cell_type": "markdown",
   "metadata": {},
   "source": [
    "#### Esempio 2\n",
    "Una funzione senza input che restituisce il valore di $\\pi$:"
   ]
  },
  {
   "cell_type": "code",
   "execution_count": null,
   "metadata": {},
   "outputs": [],
   "source": [
    "def my_pi():\n",
    "    '''Restituisce il valore di pi-greco'''\n",
    "    return 3.141592653589793\n",
    "\n",
    "my_pi()"
   ]
  },
  {
   "cell_type": "markdown",
   "metadata": {},
   "source": [
    "### Esercizi"
   ]
  },
  {
   "cell_type": "markdown",
   "metadata": {},
   "source": [
    "__1 - Costruite una funzione che prenda come input il seno e il coseno di un angolo alfa e restituisca il valore dell'angolo.__"
   ]
  },
  {
   "cell_type": "code",
   "execution_count": null,
   "metadata": {},
   "outputs": [],
   "source": []
  },
  {
   "cell_type": "markdown",
   "metadata": {},
   "source": [
    "__2 - Costruite una funzione che prenda come input la posizione di un grave di massa M, la sua altezza iniziale y0 e la sua velocità inziale v0, e calcoli la posizione del grave quando la sua velocità è uguale a v1 (g = 9.81 m/s\\*\\*2).__"
   ]
  },
  {
   "cell_type": "code",
   "execution_count": null,
   "metadata": {},
   "outputs": [],
   "source": []
  },
  {
   "cell_type": "markdown",
   "metadata": {},
   "source": [
    "__3 - Costruite una funzione che prenda come input la posizione di un grave di massa M, la sua altezza iniziale y0, la sua velocità inziale v0 e il tempo trascorso T, e calcoli la posizione e la velocità del grave in funzione del tempo T (g = 9.81 m/s\\*\\*2). Si confronti con il risultato dell'esercizio precedente.__"
   ]
  },
  {
   "cell_type": "code",
   "execution_count": null,
   "metadata": {},
   "outputs": [],
   "source": []
  },
  {
   "cell_type": "markdown",
   "metadata": {},
   "source": [
    "__4 - Costruite una funzione che converta una misura di temperatura in gradi Farhenheit nella corrispondente misura in gradi Celsius, sapendo che, a pressione standard, l'acqua congela a 32 F, bolle a 212 F e la relazione fra le due scale è lineare.__"
   ]
  },
  {
   "cell_type": "code",
   "execution_count": null,
   "metadata": {},
   "outputs": [],
   "source": []
  },
  {
   "cell_type": "markdown",
   "metadata": {},
   "source": [
    "__5 - Costruite una funzione che restituisca la probalità di osservare N eventi in un intervallo di tempo dato usando la distribuzione di Poisson.__"
   ]
  },
  {
   "cell_type": "code",
   "execution_count": null,
   "metadata": {},
   "outputs": [],
   "source": []
  },
  {
   "cell_type": "markdown",
   "metadata": {},
   "source": [
    "__6 - Costruite una funzione che restituisca la densità di probabilità di ottenere il valore X usando la distribuzione gaussiana.__"
   ]
  },
  {
   "cell_type": "code",
   "execution_count": null,
   "metadata": {},
   "outputs": [],
   "source": []
  },
  {
   "cell_type": "markdown",
   "metadata": {},
   "source": [
    "__7 - Costruite una funzione che restituisca il periodo di oscillazione di un pendolo di lunghezza L e massa M (g = 9.81 m/s\\*\\*2). Cosa succede se la lunghezza L raddoppia? E se raddoppia la massa M? Sulla Luna la costante di gravitazione vale g = 1.62 m/s\\*\\*2. Qual'è il rapposto fra i periodi di oscillazione dello stesso pendolo sulla superficie della Terra e su quella della Luna?__"
   ]
  },
  {
   "cell_type": "code",
   "execution_count": null,
   "metadata": {},
   "outputs": [],
   "source": []
  },
  {
   "cell_type": "markdown",
   "metadata": {},
   "source": [
    "__8 - Un grave di massa M viene lanciato verso l'alto con velocità v0, da una altezza y0 rispetto al terreno.\n",
    "Costruite una funzione che calcoli in quale istante arriverà a terra (g = 9.81 m/s**2).__"
   ]
  },
  {
   "cell_type": "code",
   "execution_count": null,
   "metadata": {},
   "outputs": [],
   "source": []
  },
  {
   "cell_type": "markdown",
   "metadata": {},
   "source": [
    "__9 - Costruite una funzione che calcoli il perimetro di un poligono regolare di N lati, inscritto in un circonferenza di raggio 1 metro. Verificate il risultato per N = 6. Verificate che per grandi valori di N il risultato sia sensato.__"
   ]
  },
  {
   "cell_type": "code",
   "execution_count": 14,
   "metadata": {},
   "outputs": [
    {
     "name": "stdout",
     "output_type": "stream",
     "text": [
      "Il perimetro di un poligono regolare di 6000 lati, inscritto in un circonferenza di raggio 1 metro, vale 6.283185020084435 metri.\n"
     ]
    }
   ],
   "source": [
    "import math\n",
    "\n",
    "def Perimeter(N):\n",
    "    p = N*2.*math.sin(2.*math.pi/N/2.)\n",
    "    print('Il perimetro di un poligono regolare di',N,\\\n",
    "          'lati, inscritto in un circonferenza di raggio 1 metro, vale',p,'metri.')\n",
    "    return \n",
    "    \n",
    "N=6000\n",
    "Perimeter(N)"
   ]
  },
  {
   "cell_type": "code",
   "execution_count": 13,
   "metadata": {},
   "outputs": [
    {
     "data": {
      "text/plain": [
       "6.283185307179586"
      ]
     },
     "execution_count": 13,
     "metadata": {},
     "output_type": "execute_result"
    }
   ],
   "source": [
    "2.*math.pi"
   ]
  },
  {
   "cell_type": "code",
   "execution_count": null,
   "metadata": {},
   "outputs": [],
   "source": []
  }
 ],
 "metadata": {
  "hide_input": false,
  "kernelspec": {
   "display_name": "Python 3",
   "language": "python",
   "name": "python3"
  },
  "language_info": {
   "codemirror_mode": {
    "name": "ipython",
    "version": 3
   },
   "file_extension": ".py",
   "mimetype": "text/x-python",
   "name": "python",
   "nbconvert_exporter": "python",
   "pygments_lexer": "ipython3",
   "version": "3.8.5"
  },
  "toc": {
   "base_numbering": 1,
   "nav_menu": {},
   "number_sections": true,
   "sideBar": true,
   "skip_h1_title": true,
   "title_cell": "Table of Contents",
   "title_sidebar": "Contents",
   "toc_cell": false,
   "toc_position": {},
   "toc_section_display": true,
   "toc_window_display": false
  },
  "varInspector": {
   "cols": {
    "lenName": 16,
    "lenType": 16,
    "lenVar": 40
   },
   "kernels_config": {
    "python": {
     "delete_cmd_postfix": "",
     "delete_cmd_prefix": "del ",
     "library": "var_list.py",
     "varRefreshCmd": "print(var_dic_list())"
    },
    "r": {
     "delete_cmd_postfix": ") ",
     "delete_cmd_prefix": "rm(",
     "library": "var_list.r",
     "varRefreshCmd": "cat(var_dic_list()) "
    }
   },
   "types_to_exclude": [
    "module",
    "function",
    "builtin_function_or_method",
    "instance",
    "_Feature"
   ],
   "window_display": false
  }
 },
 "nbformat": 4,
 "nbformat_minor": 4
}
